{
 "cells": [
  {
   "cell_type": "code",
   "execution_count": 10,
   "metadata": {},
   "outputs": [],
   "source": [
    "# Importation des librairies pour la requête SQL et l'enregistrement du fichier final :\n",
    "import requests\n",
    "import urllib.parse\n",
    "import sys\n",
    "\n",
    "import os\n",
    "import json\n",
    "from datetime import datetime"
   ]
  },
  {
   "cell_type": "code",
   "execution_count": 11,
   "metadata": {},
   "outputs": [],
   "source": [
    "# Importation des librairies classiques :\n",
    "import pandas as pd"
   ]
  },
  {
   "cell_type": "code",
   "execution_count": 12,
   "metadata": {},
   "outputs": [],
   "source": [
    "# Importation de la configuration des chemins : \n",
    "sys.path.append(os.path.abspath(os.path.join(\"..\")))\n",
    "import config"
   ]
  },
  {
   "cell_type": "code",
   "execution_count": 13,
   "metadata": {},
   "outputs": [],
   "source": [
    "# Liste des tables disponibles sur le site de l'Agence Européenne à date : \n",
    "# NB : Il est possible de compléter cette liste avec les années postérieures \n",
    "# (années antérieures non compatibles avec le pre-processing actuel)\n",
    "table_list = ['co2cars_2021Pv23', 'co2cars_2022Pv25', 'co2cars_2023Pv27']"
   ]
  },
  {
   "cell_type": "code",
   "execution_count": 14,
   "metadata": {},
   "outputs": [],
   "source": [
    "# Définition de la requête et boucle for pour l'appliquer à tous les noms de table :\n",
    "\n",
    "records = []\n",
    "\n",
    "for table in table_list:\n",
    "  query = f\"\"\"\n",
    "  SELECT DISTINCT [Year] AS Year, Mk, Cn, [M (kg)], [Ewltp (g/km)], Ft, [Ec (cm3)], [Ep (KW)], [Erwltp (g/km)], Fc\n",
    "  FROM [CO2Emission].[latest].[{table}]\n",
    "  WHERE Mk IS NOT NULL \n",
    "    AND Cn IS NOT NULL \n",
    "    AND [M (kg)] IS NOT NULL\n",
    "    AND [Ewltp (g/km)] IS NOT NULL\n",
    "    AND Ft IS NOT NULL\n",
    "    AND [Ec (cm3)] IS NOT NULL\n",
    "    AND [Ep (KW)] IS NOT NULL\n",
    "    AND [Erwltp (g/km)] IS NOT NULL\n",
    "    AND [Year] IS NOT NULL\n",
    "    AND Fc IS NOT NULL\n",
    "  \"\"\"\n",
    "\n",
    "# Encodage de la requête pour l'inclure dans l'URL :\n",
    "  encoded_query = urllib.parse.quote(query)\n",
    "\n",
    "# Initialisation :\n",
    "  page = 1\n",
    "\n",
    "# Boucle while pour parcourir toutes les pages de l'API : \n",
    "# NB : Celle-ci s'arrête quand il n'y a plus de réponse.\n",
    "\n",
    "  while True:\n",
    "    url = f\"https://discodata.eea.europa.eu/sql?query={encoded_query}&p={page}&nrOfHits=100000\"\n",
    "    response = requests.get(url)\n",
    "    data = response.json()\n",
    "    new_records = data.get(\"results\", [])\n",
    "    if not new_records:\n",
    "      break\n",
    "    records.extend(new_records)\n",
    "    page += 1"
   ]
  },
  {
   "cell_type": "code",
   "execution_count": 15,
   "metadata": {},
   "outputs": [
    {
     "name": "stdout",
     "output_type": "stream",
     "text": [
      "(300662, 10)\n"
     ]
    },
    {
     "data": {
      "text/html": [
       "<div>\n",
       "<style scoped>\n",
       "    .dataframe tbody tr th:only-of-type {\n",
       "        vertical-align: middle;\n",
       "    }\n",
       "\n",
       "    .dataframe tbody tr th {\n",
       "        vertical-align: top;\n",
       "    }\n",
       "\n",
       "    .dataframe thead th {\n",
       "        text-align: right;\n",
       "    }\n",
       "</style>\n",
       "<table border=\"1\" class=\"dataframe\">\n",
       "  <thead>\n",
       "    <tr style=\"text-align: right;\">\n",
       "      <th></th>\n",
       "      <th>Year</th>\n",
       "      <th>Mk</th>\n",
       "      <th>Cn</th>\n",
       "      <th>M (kg)</th>\n",
       "      <th>Ewltp (g/km)</th>\n",
       "      <th>Ft</th>\n",
       "      <th>Ec (cm3)</th>\n",
       "      <th>Ep (KW)</th>\n",
       "      <th>Erwltp (g/km)</th>\n",
       "      <th>Fc</th>\n",
       "    </tr>\n",
       "  </thead>\n",
       "  <tbody>\n",
       "    <tr>\n",
       "      <th>0</th>\n",
       "      <td>2021</td>\n",
       "      <td>ALFA ROMEO</td>\n",
       "      <td>GIULIA</td>\n",
       "      <td>1504</td>\n",
       "      <td>178</td>\n",
       "      <td>PETROL</td>\n",
       "      <td>1995</td>\n",
       "      <td>148</td>\n",
       "      <td>1.2</td>\n",
       "      <td>7.9</td>\n",
       "    </tr>\n",
       "    <tr>\n",
       "      <th>1</th>\n",
       "      <td>2021</td>\n",
       "      <td>ALFA ROMEO</td>\n",
       "      <td>GIULIA</td>\n",
       "      <td>1504</td>\n",
       "      <td>179</td>\n",
       "      <td>PETROL</td>\n",
       "      <td>1995</td>\n",
       "      <td>148</td>\n",
       "      <td>1.2</td>\n",
       "      <td>7.9</td>\n",
       "    </tr>\n",
       "    <tr>\n",
       "      <th>2</th>\n",
       "      <td>2021</td>\n",
       "      <td>ALFA ROMEO</td>\n",
       "      <td>GIULIA</td>\n",
       "      <td>1504</td>\n",
       "      <td>180</td>\n",
       "      <td>PETROL</td>\n",
       "      <td>1995</td>\n",
       "      <td>148</td>\n",
       "      <td>1.2</td>\n",
       "      <td>8.0</td>\n",
       "    </tr>\n",
       "    <tr>\n",
       "      <th>3</th>\n",
       "      <td>2021</td>\n",
       "      <td>ALFA ROMEO</td>\n",
       "      <td>GIULIA</td>\n",
       "      <td>1520</td>\n",
       "      <td>159</td>\n",
       "      <td>PETROL</td>\n",
       "      <td>1995</td>\n",
       "      <td>148</td>\n",
       "      <td>0.8</td>\n",
       "      <td>7.0</td>\n",
       "    </tr>\n",
       "    <tr>\n",
       "      <th>4</th>\n",
       "      <td>2021</td>\n",
       "      <td>ALFA ROMEO</td>\n",
       "      <td>GIULIA</td>\n",
       "      <td>1520</td>\n",
       "      <td>160</td>\n",
       "      <td>PETROL</td>\n",
       "      <td>1995</td>\n",
       "      <td>148</td>\n",
       "      <td>0.8</td>\n",
       "      <td>7.0</td>\n",
       "    </tr>\n",
       "  </tbody>\n",
       "</table>\n",
       "</div>"
      ],
      "text/plain": [
       "   Year          Mk      Cn  M (kg)  Ewltp (g/km)      Ft  Ec (cm3)  Ep (KW)  \\\n",
       "0  2021  ALFA ROMEO  GIULIA    1504           178  PETROL      1995      148   \n",
       "1  2021  ALFA ROMEO  GIULIA    1504           179  PETROL      1995      148   \n",
       "2  2021  ALFA ROMEO  GIULIA    1504           180  PETROL      1995      148   \n",
       "3  2021  ALFA ROMEO  GIULIA    1520           159  PETROL      1995      148   \n",
       "4  2021  ALFA ROMEO  GIULIA    1520           160  PETROL      1995      148   \n",
       "\n",
       "   Erwltp (g/km)   Fc  \n",
       "0            1.2  7.9  \n",
       "1            1.2  7.9  \n",
       "2            1.2  8.0  \n",
       "3            0.8  7.0  \n",
       "4            0.8  7.0  "
      ]
     },
     "metadata": {},
     "output_type": "display_data"
    }
   ],
   "source": [
    "# Transformation en DataFrame :\n",
    "df = pd.DataFrame(records)\n",
    "print(df.shape)\n",
    "\n",
    "# Affichage des premières lignes :\n",
    "display(df.head())"
   ]
  },
  {
   "cell_type": "code",
   "execution_count": 16,
   "metadata": {},
   "outputs": [
    {
     "name": "stdout",
     "output_type": "stream",
     "text": [
      "<class 'pandas.core.frame.DataFrame'>\n",
      "RangeIndex: 300662 entries, 0 to 300661\n",
      "Data columns (total 10 columns):\n",
      " #   Column         Non-Null Count   Dtype  \n",
      "---  ------         --------------   -----  \n",
      " 0   Year           300662 non-null  int64  \n",
      " 1   Mk             300662 non-null  object \n",
      " 2   Cn             300662 non-null  object \n",
      " 3   M (kg)         300662 non-null  int64  \n",
      " 4   Ewltp (g/km)   300662 non-null  int64  \n",
      " 5   Ft             300662 non-null  object \n",
      " 6   Ec (cm3)       300662 non-null  int64  \n",
      " 7   Ep (KW)        300662 non-null  int64  \n",
      " 8   Erwltp (g/km)  300662 non-null  float64\n",
      " 9   Fc             300662 non-null  float64\n",
      "dtypes: float64(2), int64(5), object(3)\n",
      "memory usage: 22.9+ MB\n"
     ]
    }
   ],
   "source": [
    "df.info()"
   ]
  },
  {
   "cell_type": "code",
   "execution_count": 17,
   "metadata": {},
   "outputs": [],
   "source": [
    "# Définir les chemins vers les dossiers existants :\n",
    "raw_dir = config.RAW_DIR\n",
    "metadata_dir = config.METADATA_DIR\n",
    "\n",
    "# Créer les dossiers s'ils n'existent pas :\n",
    "os.makedirs(raw_dir, exist_ok=True)\n",
    "os.makedirs(metadata_dir, exist_ok=True)\n",
    "\n",
    "# Génération d'un timestamp au format YYYYMMDD_HHMMSS :\n",
    "timestamp = datetime.now().strftime(\"%Y%m%d_%H%M%S\")\n",
    "output_filename = f\"DF_Raw_{timestamp}.csv\"\n",
    "\n",
    "# Construction du chemin complet vers le fichier dans le dossier raw existant : \n",
    "output_filepath = os.path.join(raw_dir, output_filename)\n",
    "\n",
    "# Enregistrement du DataFrame dans le fichier avec le nom dynamique : \n",
    "df.to_csv(output_filepath, index=False)\n",
    "\n",
    "# Remplissage du fichier de métadonnées : \n",
    "metadata_file = os.path.join(metadata_dir, \"metadata.json\")\n",
    "metadata = {\"raw_data\": output_filepath}\n",
    "with open(metadata_file, \"w\") as f:\n",
    "    json.dump(metadata, f)"
   ]
  }
 ],
 "metadata": {
  "kernelspec": {
   "display_name": "Python 3",
   "language": "python",
   "name": "python3"
  },
  "language_info": {
   "codemirror_mode": {
    "name": "ipython",
    "version": 3
   },
   "file_extension": ".py",
   "mimetype": "text/x-python",
   "name": "python",
   "nbconvert_exporter": "python",
   "pygments_lexer": "ipython3",
   "version": "3.12.5"
  }
 },
 "nbformat": 4,
 "nbformat_minor": 2
}
