{
 "cells": [
  {
   "cell_type": "code",
   "execution_count": null,
   "id": "c240d0b3",
   "metadata": {},
   "outputs": [],
   "source": [
    "# Importation des librairies :\n",
    "import requests\n",
    "import urllib.parse\n",
    "import pandas as pd\n",
    "import os\n",
    "import sys\n",
    "import json"
   ]
  },
  {
   "cell_type": "code",
   "execution_count": null,
   "id": "aeb07ef2",
   "metadata": {
    "lines_to_next_cell": 2
   },
   "outputs": [],
   "source": [
    "# Importation de la fonction permettant la sauvegarde des fichiers de log :\n",
    "sys.path.append(os.path.abspath(os.path.join(os.path.dirname(__file__), \"..\")))\n",
    "from logging_script import setup_logging"
   ]
  },
  {
   "cell_type": "code",
   "execution_count": null,
   "id": "b3634e91",
   "metadata": {},
   "outputs": [],
   "source": [
    "# Importation de la configuration des chemins : \n",
    "sys.path.append(os.path.abspath(os.path.join(os.path.dirname(__file__), \"..\", \"..\")))\n",
    "import config"
   ]
  },
  {
   "cell_type": "code",
   "execution_count": null,
   "id": "602fdfb5",
   "metadata": {},
   "outputs": [],
   "source": [
    "# Initialisation du logger :\n",
    "logger = setup_logging()"
   ]
  },
  {
   "cell_type": "code",
   "execution_count": null,
   "id": "c77abc20",
   "metadata": {},
   "outputs": [],
   "source": [
    "# Démarrage des logs :\n",
    "logger.info(\"✅ Script de téléchargement des données démarré avec succès (recup_raw_data.py).\")"
   ]
  },
  {
   "cell_type": "code",
   "execution_count": null,
   "id": "2d6cbb67",
   "metadata": {},
   "outputs": [],
   "source": [
    "# Liste des tables disponibles sur le site de l'Agence Européenne à date : \n",
    "# NB : Il est possible de compléter cette liste avec les années postérieures \n",
    "# (années antérieures non compatibles avec le pre-processing actuel)\n",
    "table_list = ['co2cars_2021Pv23', 'co2cars_2022Pv25', 'co2cars_2023Pv27']"
   ]
  },
  {
   "cell_type": "code",
   "execution_count": null,
   "id": "40b8572a",
   "metadata": {},
   "outputs": [],
   "source": [
    "# Définition de la requête et boucle for pour l'appliquer à tous les noms de table :\n",
    "records = []"
   ]
  },
  {
   "cell_type": "code",
   "execution_count": null,
   "id": "e0add12f",
   "metadata": {},
   "outputs": [],
   "source": [
    "for table in table_list:\n",
    "\n",
    "  logger.info(f\"📥 Début de téléchargement pour la table : {table}\")\n",
    "\n",
    "  query = f\"\"\"\n",
    "  SELECT DISTINCT [Year] AS Year, Mk, Cn, [M (kg)], [Ewltp (g/km)], Ft, [Ec (cm3)], [Ep (KW)], [Erwltp (g/km)], Fc\n",
    "  FROM [CO2Emission].[latest].[{table}]\n",
    "  WHERE Mk IS NOT NULL \n",
    "    AND Cn IS NOT NULL \n",
    "    AND [M (kg)] IS NOT NULL\n",
    "    AND [Ewltp (g/km)] IS NOT NULL\n",
    "    AND Ft IS NOT NULL\n",
    "    AND [Ec (cm3)] IS NOT NULL\n",
    "    AND [Ep (KW)] IS NOT NULL\n",
    "    AND [Erwltp (g/km)] IS NOT NULL\n",
    "    AND [Year] IS NOT NULL\n",
    "    AND Fc IS NOT NULL\n",
    "  \"\"\""
   ]
  },
  {
   "cell_type": "code",
   "execution_count": null,
   "id": "f040309e",
   "metadata": {},
   "outputs": [],
   "source": [
    "# Encodage de la requête pour l'inclure dans l'URL :\n",
    "  encoded_query = urllib.parse.quote(query)"
   ]
  },
  {
   "cell_type": "code",
   "execution_count": null,
   "id": "fbc3b00a",
   "metadata": {},
   "outputs": [],
   "source": [
    "# Initialisation :\n",
    "  page = 1"
   ]
  },
  {
   "cell_type": "markdown",
   "id": "48ad6ab9",
   "metadata": {},
   "source": [
    "Boucle while pour parcourir toutes les pages de l'API : \n",
    "NB : Celle-ci s'arrête quand il n'y a plus de réponse."
   ]
  },
  {
   "cell_type": "code",
   "execution_count": null,
   "id": "e9d994e2",
   "metadata": {},
   "outputs": [],
   "source": [
    "  while True:\n",
    "    url = f\"https://discodata.eea.europa.eu/sql?query={encoded_query}&p={page}&nrOfHits=100000\"\n",
    "    logger.info(f\"🌐 Requête envoyée.\")\n",
    "    try:\n",
    "      response = requests.get(url)\n",
    "      if response.status_code != 200:\n",
    "          logger.error(f\"❌ Erreur de requête : Status code {response.status_code}\")\n",
    "          break\n",
    "      try:\n",
    "          data = response.json()\n",
    "      except json.JSONDecodeError as e:\n",
    "          logger.error(f\"❌ Erreur de décodage JSON : {e}\")\n",
    "          break\n",
    "            \n",
    "      new_records = data.get(\"results\", [])\n",
    "      if not new_records:\n",
    "          logger.info(f\"📌 Aucun enregistrement supplémentaire trouvé pour {table} (page {page}).\")\n",
    "          break\n",
    "\n",
    "      records.extend(new_records)\n",
    "      logger.info(f\"✅ Page {page} téléchargée - {len(new_records)} enregistrements récupérés.\")\n",
    "            \n",
    "      page += 1  # Passage à la page suivante\n",
    "\n",
    "    except requests.RequestException as e:\n",
    "        logger.error(f\"❌ Erreur lors de la requête HTTP : {e}\")\n",
    "        break"
   ]
  },
  {
   "cell_type": "code",
   "execution_count": null,
   "id": "0e2eca1d",
   "metadata": {},
   "outputs": [],
   "source": [
    "# Transformation en DataFrame :\n",
    "if records:\n",
    "    df = pd.DataFrame(records)\n",
    "    logger.info(f\"✅ DataFrame créé avec succès - {len(df)} lignes téléchargées.\")\n",
    "else:\n",
    "    logger.error(\"❌ Aucune donnée récupérée. Impossible de créer le DataFrame.\")"
   ]
  },
  {
   "cell_type": "code",
   "execution_count": null,
   "id": "acd1a63c",
   "metadata": {},
   "outputs": [],
   "source": [
    "# Enregistrement du fichier :\n",
    "# Définition du chemins vers le dossier \"raw\" (pour exporter la base de données brute) :\n",
    "raw_dir = config.RAW_DIR"
   ]
  },
  {
   "cell_type": "code",
   "execution_count": null,
   "id": "07fb6ff4",
   "metadata": {},
   "outputs": [],
   "source": [
    "# Création du dossier s'il n'existe pas :\n",
    "try:\n",
    "    os.makedirs(raw_dir, exist_ok=True)\n",
    "    logger.info(\"🗂️ Dossier de sauvegarde des données brutes vérifié ou créé avec succès.\")\n",
    "except Exception as e:\n",
    "    logger.error(f'❌ Erreur lors de la création du dossier \"raw\" : {e}')"
   ]
  },
  {
   "cell_type": "code",
   "execution_count": null,
   "id": "fcfe6448",
   "metadata": {},
   "outputs": [],
   "source": [
    "# Création de la variable contenant le nom du fichier .csv à exporter : \n",
    "output_filename = \"DF_Raw.csv\""
   ]
  },
  {
   "cell_type": "code",
   "execution_count": null,
   "id": "0368e435",
   "metadata": {},
   "outputs": [],
   "source": [
    "# Construction du chemin complet vers le fichier dans le dossier \"raw\" existant : \n",
    "output_filepath = os.path.join(raw_dir, output_filename)"
   ]
  },
  {
   "cell_type": "code",
   "execution_count": null,
   "id": "053380e6",
   "metadata": {},
   "outputs": [],
   "source": [
    "# Exportation du DataFrame en .csv : \n",
    "if not df.empty:\n",
    "    try:\n",
    "        df.to_csv(output_filepath, index=False)\n",
    "        logger.info(f\"📁 Fichier .csv enregistré avec succès : {output_filepath}\")\n",
    "    except Exception as e:\n",
    "        logger.error(f\"❌ Erreur lors de l'enregistrement du fichier .csv : {e}\")\n",
    "else:\n",
    "    logger.error(\"❌ Le DataFrame est vide. Aucune sauvegarde n'a été effectuée.\")"
   ]
  }
 ],
 "metadata": {
  "jupytext": {
   "cell_metadata_filter": "-all",
   "encoding": "# coding: utf-8",
   "executable": "/usr/bin/env python",
   "formats": "ipynb,py:light",
   "main_language": "python"
  },
  "language_info": {
   "name": "python"
  }
 },
 "nbformat": 4,
 "nbformat_minor": 5
}
